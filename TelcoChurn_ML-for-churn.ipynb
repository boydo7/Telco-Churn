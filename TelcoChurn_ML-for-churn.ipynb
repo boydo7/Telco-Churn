{
 "cells": [
  {
   "cell_type": "code",
   "execution_count": 50,
   "metadata": {},
   "outputs": [],
   "source": [
    "import numpy as np\n",
    "import pandas as pd\n",
    "import matplotlib.pyplot as plt\n",
    "import plotly.figure_factory as ff\n",
    "import seaborn as sns\n",
    "import sklearn\n",
    "import xgboost as xgb\n",
    "\n",
    "pd.set_option('display.max_columns', None)\n",
    "import warnings\n",
    "warnings.filterwarnings(\"ignore\")\n",
    "warnings.filterwarnings(\"ignore\", category=DeprecationWarning) \n",
    "warnings.filterwarnings(\"ignore\", category=FutureWarning) \n",
    "warnings.filterwarnings(\"ignore\", category=UserWarning) \n",
    "import os\n",
    "\n"
   ]
  },
  {
   "cell_type": "code",
   "execution_count": 89,
   "metadata": {},
   "outputs": [],
   "source": [
    "from sklearn.preprocessing import LabelEncoder\n",
    "from sklearn.model_selection import train_test_split,cross_val_score\n",
    "from sklearn.metrics import roc_auc_score\n",
    "from sklearn.metrics import accuracy_score, confusion_matrix, classification_report\n",
    "from sklearn.tree import DecisionTreeClassifier\n",
    "from sklearn.linear_model import  SGDClassifier\n",
    "from sklearn.ensemble import RandomForestClassifier\n",
    "from sklearn.naive_bayes import GaussianNB\n",
    "from sklearn.ensemble import GradientBoostingClassifier\n",
    "from xgboost import XGBClassifier\n",
    "from sklearn.linear_model import LogisticRegression\n"
   ]
  },
  {
   "cell_type": "code",
   "execution_count": 52,
   "metadata": {},
   "outputs": [],
   "source": [
    "df = pd.read_csv('dataset_telcochurn.csv')"
   ]
  },
  {
   "attachments": {},
   "cell_type": "markdown",
   "metadata": {},
   "source": [
    "# Dataset Description\n",
    "\n",
    "| Feature Name\t| Description |\t\n",
    "| :---        |    :----:   |  \n",
    "| customerID |\tContains customer ID |\tcategorical\n",
    "| gender |\twhether the customer female or male |\tcategorical\n",
    "| SeniorCitizen |\tWhether the customer is a senior citizen or not (1, 0) |\tnumeric, int\n",
    "| Partner |\tWhether the customer has a partner or not (Yes, No) |\tcategorical\n",
    "| Dependents |\tWhether the customer has dependents or not (Yes, No) |\tcategorical\n",
    "| tenure |\tNumber of months the customer has stayed with the company |\tnumeric, int\n",
    "| PhoneService |\tWhether the customer has a phone service or not (Yes, No) |\tcategorical\n",
    "| MultipleLines |\tWhether the customer has multiple lines r not (Yes, No, No phone service) |\tcategorical\n",
    "| InternetService |\tCustomer’s internet service provider (DSL, Fiber optic, No) |\tcategorical\n",
    "| OnlineSecurity |\tWhether the customer has online security or not (Yes, No, No internet service) |\tcategorical\n",
    "| OnlineBackup |\tWhether the customer has online backup or not (Yes, No, No internet service) |\tcategorical\n",
    "| DeviceProtection |\tWhether the customer has device protection or not (Yes, No, No internet service) |\tcategorical\n",
    "| TechSupport |\tWhether the customer has tech support or not (Yes, No, No internet service) |\tcategorical\n",
    "| streamingTV |\tWhether the customer has streaming TV or not (Yes, No, No internet service) |\tcategorical\n",
    "| streamingMovies |\tWhether the customer has streaming movies or not (Yes, No, No internet service) |\tcategorical\n",
    "| Contract |\tThe contract term of the customer (Month-to-month, One year, Two year) |\tcategorical\n",
    "| PaperlessBilling |\tWhether the customer has paperless billing or not (Yes, No) |\tcategorical\n",
    "| PaymentMethod |\tThe customer’s payment method (Electronic check, Mailed check, Bank transfer, Credit card) |\tcategorical\n",
    "| MonthlyCharges |\tThe amount charged to the customer monthly |\tnumeric , int\n",
    "| TotalCharges |\tThe total amount charged to the customer |\tobject\n",
    "| Churn |\tWhether the customer churned or not (Yes or No) |\tcategorical"
   ]
  },
  {
   "attachments": {},
   "cell_type": "markdown",
   "metadata": {},
   "source": [
    "# Data Exploration"
   ]
  },
  {
   "cell_type": "code",
   "execution_count": 53,
   "metadata": {},
   "outputs": [
    {
     "name": "stdout",
     "output_type": "stream",
     "text": [
      "Dataset shape:  (7043, 21)\n"
     ]
    },
    {
     "data": {
      "text/html": [
       "<div>\n",
       "<style scoped>\n",
       "    .dataframe tbody tr th:only-of-type {\n",
       "        vertical-align: middle;\n",
       "    }\n",
       "\n",
       "    .dataframe tbody tr th {\n",
       "        vertical-align: top;\n",
       "    }\n",
       "\n",
       "    .dataframe thead th {\n",
       "        text-align: right;\n",
       "    }\n",
       "</style>\n",
       "<table border=\"1\" class=\"dataframe\">\n",
       "  <thead>\n",
       "    <tr style=\"text-align: right;\">\n",
       "      <th></th>\n",
       "      <th>customerID</th>\n",
       "      <th>gender</th>\n",
       "      <th>SeniorCitizen</th>\n",
       "      <th>Partner</th>\n",
       "      <th>Dependents</th>\n",
       "      <th>tenure</th>\n",
       "      <th>PhoneService</th>\n",
       "      <th>MultipleLines</th>\n",
       "      <th>InternetService</th>\n",
       "      <th>OnlineSecurity</th>\n",
       "      <th>OnlineBackup</th>\n",
       "      <th>DeviceProtection</th>\n",
       "      <th>TechSupport</th>\n",
       "      <th>StreamingTV</th>\n",
       "      <th>StreamingMovies</th>\n",
       "      <th>Contract</th>\n",
       "      <th>PaperlessBilling</th>\n",
       "      <th>PaymentMethod</th>\n",
       "      <th>MonthlyCharges</th>\n",
       "      <th>TotalCharges</th>\n",
       "      <th>Churn</th>\n",
       "    </tr>\n",
       "  </thead>\n",
       "  <tbody>\n",
       "    <tr>\n",
       "      <th>0</th>\n",
       "      <td>7590-VHVEG</td>\n",
       "      <td>Female</td>\n",
       "      <td>0</td>\n",
       "      <td>Yes</td>\n",
       "      <td>No</td>\n",
       "      <td>1</td>\n",
       "      <td>No</td>\n",
       "      <td>No phone service</td>\n",
       "      <td>DSL</td>\n",
       "      <td>No</td>\n",
       "      <td>Yes</td>\n",
       "      <td>No</td>\n",
       "      <td>No</td>\n",
       "      <td>No</td>\n",
       "      <td>No</td>\n",
       "      <td>Month-to-month</td>\n",
       "      <td>Yes</td>\n",
       "      <td>Electronic check</td>\n",
       "      <td>29.85</td>\n",
       "      <td>29.85</td>\n",
       "      <td>No</td>\n",
       "    </tr>\n",
       "    <tr>\n",
       "      <th>1</th>\n",
       "      <td>5575-GNVDE</td>\n",
       "      <td>Male</td>\n",
       "      <td>0</td>\n",
       "      <td>No</td>\n",
       "      <td>No</td>\n",
       "      <td>34</td>\n",
       "      <td>Yes</td>\n",
       "      <td>No</td>\n",
       "      <td>DSL</td>\n",
       "      <td>Yes</td>\n",
       "      <td>No</td>\n",
       "      <td>Yes</td>\n",
       "      <td>No</td>\n",
       "      <td>No</td>\n",
       "      <td>No</td>\n",
       "      <td>One year</td>\n",
       "      <td>No</td>\n",
       "      <td>Mailed check</td>\n",
       "      <td>56.95</td>\n",
       "      <td>1889.5</td>\n",
       "      <td>No</td>\n",
       "    </tr>\n",
       "    <tr>\n",
       "      <th>2</th>\n",
       "      <td>3668-QPYBK</td>\n",
       "      <td>Male</td>\n",
       "      <td>0</td>\n",
       "      <td>No</td>\n",
       "      <td>No</td>\n",
       "      <td>2</td>\n",
       "      <td>Yes</td>\n",
       "      <td>No</td>\n",
       "      <td>DSL</td>\n",
       "      <td>Yes</td>\n",
       "      <td>Yes</td>\n",
       "      <td>No</td>\n",
       "      <td>No</td>\n",
       "      <td>No</td>\n",
       "      <td>No</td>\n",
       "      <td>Month-to-month</td>\n",
       "      <td>Yes</td>\n",
       "      <td>Mailed check</td>\n",
       "      <td>53.85</td>\n",
       "      <td>108.15</td>\n",
       "      <td>Yes</td>\n",
       "    </tr>\n",
       "    <tr>\n",
       "      <th>3</th>\n",
       "      <td>7795-CFOCW</td>\n",
       "      <td>Male</td>\n",
       "      <td>0</td>\n",
       "      <td>No</td>\n",
       "      <td>No</td>\n",
       "      <td>45</td>\n",
       "      <td>No</td>\n",
       "      <td>No phone service</td>\n",
       "      <td>DSL</td>\n",
       "      <td>Yes</td>\n",
       "      <td>No</td>\n",
       "      <td>Yes</td>\n",
       "      <td>Yes</td>\n",
       "      <td>No</td>\n",
       "      <td>No</td>\n",
       "      <td>One year</td>\n",
       "      <td>No</td>\n",
       "      <td>Bank transfer (automatic)</td>\n",
       "      <td>42.30</td>\n",
       "      <td>1840.75</td>\n",
       "      <td>No</td>\n",
       "    </tr>\n",
       "    <tr>\n",
       "      <th>4</th>\n",
       "      <td>9237-HQITU</td>\n",
       "      <td>Female</td>\n",
       "      <td>0</td>\n",
       "      <td>No</td>\n",
       "      <td>No</td>\n",
       "      <td>2</td>\n",
       "      <td>Yes</td>\n",
       "      <td>No</td>\n",
       "      <td>Fiber optic</td>\n",
       "      <td>No</td>\n",
       "      <td>No</td>\n",
       "      <td>No</td>\n",
       "      <td>No</td>\n",
       "      <td>No</td>\n",
       "      <td>No</td>\n",
       "      <td>Month-to-month</td>\n",
       "      <td>Yes</td>\n",
       "      <td>Electronic check</td>\n",
       "      <td>70.70</td>\n",
       "      <td>151.65</td>\n",
       "      <td>Yes</td>\n",
       "    </tr>\n",
       "    <tr>\n",
       "      <th>...</th>\n",
       "      <td>...</td>\n",
       "      <td>...</td>\n",
       "      <td>...</td>\n",
       "      <td>...</td>\n",
       "      <td>...</td>\n",
       "      <td>...</td>\n",
       "      <td>...</td>\n",
       "      <td>...</td>\n",
       "      <td>...</td>\n",
       "      <td>...</td>\n",
       "      <td>...</td>\n",
       "      <td>...</td>\n",
       "      <td>...</td>\n",
       "      <td>...</td>\n",
       "      <td>...</td>\n",
       "      <td>...</td>\n",
       "      <td>...</td>\n",
       "      <td>...</td>\n",
       "      <td>...</td>\n",
       "      <td>...</td>\n",
       "      <td>...</td>\n",
       "    </tr>\n",
       "    <tr>\n",
       "      <th>7038</th>\n",
       "      <td>6840-RESVB</td>\n",
       "      <td>Male</td>\n",
       "      <td>0</td>\n",
       "      <td>Yes</td>\n",
       "      <td>Yes</td>\n",
       "      <td>24</td>\n",
       "      <td>Yes</td>\n",
       "      <td>Yes</td>\n",
       "      <td>DSL</td>\n",
       "      <td>Yes</td>\n",
       "      <td>No</td>\n",
       "      <td>Yes</td>\n",
       "      <td>Yes</td>\n",
       "      <td>Yes</td>\n",
       "      <td>Yes</td>\n",
       "      <td>One year</td>\n",
       "      <td>Yes</td>\n",
       "      <td>Mailed check</td>\n",
       "      <td>84.80</td>\n",
       "      <td>1990.5</td>\n",
       "      <td>No</td>\n",
       "    </tr>\n",
       "    <tr>\n",
       "      <th>7039</th>\n",
       "      <td>2234-XADUH</td>\n",
       "      <td>Female</td>\n",
       "      <td>0</td>\n",
       "      <td>Yes</td>\n",
       "      <td>Yes</td>\n",
       "      <td>72</td>\n",
       "      <td>Yes</td>\n",
       "      <td>Yes</td>\n",
       "      <td>Fiber optic</td>\n",
       "      <td>No</td>\n",
       "      <td>Yes</td>\n",
       "      <td>Yes</td>\n",
       "      <td>No</td>\n",
       "      <td>Yes</td>\n",
       "      <td>Yes</td>\n",
       "      <td>One year</td>\n",
       "      <td>Yes</td>\n",
       "      <td>Credit card (automatic)</td>\n",
       "      <td>103.20</td>\n",
       "      <td>7362.9</td>\n",
       "      <td>No</td>\n",
       "    </tr>\n",
       "    <tr>\n",
       "      <th>7040</th>\n",
       "      <td>4801-JZAZL</td>\n",
       "      <td>Female</td>\n",
       "      <td>0</td>\n",
       "      <td>Yes</td>\n",
       "      <td>Yes</td>\n",
       "      <td>11</td>\n",
       "      <td>No</td>\n",
       "      <td>No phone service</td>\n",
       "      <td>DSL</td>\n",
       "      <td>Yes</td>\n",
       "      <td>No</td>\n",
       "      <td>No</td>\n",
       "      <td>No</td>\n",
       "      <td>No</td>\n",
       "      <td>No</td>\n",
       "      <td>Month-to-month</td>\n",
       "      <td>Yes</td>\n",
       "      <td>Electronic check</td>\n",
       "      <td>29.60</td>\n",
       "      <td>346.45</td>\n",
       "      <td>No</td>\n",
       "    </tr>\n",
       "    <tr>\n",
       "      <th>7041</th>\n",
       "      <td>8361-LTMKD</td>\n",
       "      <td>Male</td>\n",
       "      <td>1</td>\n",
       "      <td>Yes</td>\n",
       "      <td>No</td>\n",
       "      <td>4</td>\n",
       "      <td>Yes</td>\n",
       "      <td>Yes</td>\n",
       "      <td>Fiber optic</td>\n",
       "      <td>No</td>\n",
       "      <td>No</td>\n",
       "      <td>No</td>\n",
       "      <td>No</td>\n",
       "      <td>No</td>\n",
       "      <td>No</td>\n",
       "      <td>Month-to-month</td>\n",
       "      <td>Yes</td>\n",
       "      <td>Mailed check</td>\n",
       "      <td>74.40</td>\n",
       "      <td>306.6</td>\n",
       "      <td>Yes</td>\n",
       "    </tr>\n",
       "    <tr>\n",
       "      <th>7042</th>\n",
       "      <td>3186-AJIEK</td>\n",
       "      <td>Male</td>\n",
       "      <td>0</td>\n",
       "      <td>No</td>\n",
       "      <td>No</td>\n",
       "      <td>66</td>\n",
       "      <td>Yes</td>\n",
       "      <td>No</td>\n",
       "      <td>Fiber optic</td>\n",
       "      <td>Yes</td>\n",
       "      <td>No</td>\n",
       "      <td>Yes</td>\n",
       "      <td>Yes</td>\n",
       "      <td>Yes</td>\n",
       "      <td>Yes</td>\n",
       "      <td>Two year</td>\n",
       "      <td>Yes</td>\n",
       "      <td>Bank transfer (automatic)</td>\n",
       "      <td>105.65</td>\n",
       "      <td>6844.5</td>\n",
       "      <td>No</td>\n",
       "    </tr>\n",
       "  </tbody>\n",
       "</table>\n",
       "<p>7043 rows × 21 columns</p>\n",
       "</div>"
      ],
      "text/plain": [
       "      customerID  gender  SeniorCitizen Partner Dependents  tenure  \\\n",
       "0     7590-VHVEG  Female              0     Yes         No       1   \n",
       "1     5575-GNVDE    Male              0      No         No      34   \n",
       "2     3668-QPYBK    Male              0      No         No       2   \n",
       "3     7795-CFOCW    Male              0      No         No      45   \n",
       "4     9237-HQITU  Female              0      No         No       2   \n",
       "...          ...     ...            ...     ...        ...     ...   \n",
       "7038  6840-RESVB    Male              0     Yes        Yes      24   \n",
       "7039  2234-XADUH  Female              0     Yes        Yes      72   \n",
       "7040  4801-JZAZL  Female              0     Yes        Yes      11   \n",
       "7041  8361-LTMKD    Male              1     Yes         No       4   \n",
       "7042  3186-AJIEK    Male              0      No         No      66   \n",
       "\n",
       "     PhoneService     MultipleLines InternetService OnlineSecurity  \\\n",
       "0              No  No phone service             DSL             No   \n",
       "1             Yes                No             DSL            Yes   \n",
       "2             Yes                No             DSL            Yes   \n",
       "3              No  No phone service             DSL            Yes   \n",
       "4             Yes                No     Fiber optic             No   \n",
       "...           ...               ...             ...            ...   \n",
       "7038          Yes               Yes             DSL            Yes   \n",
       "7039          Yes               Yes     Fiber optic             No   \n",
       "7040           No  No phone service             DSL            Yes   \n",
       "7041          Yes               Yes     Fiber optic             No   \n",
       "7042          Yes                No     Fiber optic            Yes   \n",
       "\n",
       "     OnlineBackup DeviceProtection TechSupport StreamingTV StreamingMovies  \\\n",
       "0             Yes               No          No          No              No   \n",
       "1              No              Yes          No          No              No   \n",
       "2             Yes               No          No          No              No   \n",
       "3              No              Yes         Yes          No              No   \n",
       "4              No               No          No          No              No   \n",
       "...           ...              ...         ...         ...             ...   \n",
       "7038           No              Yes         Yes         Yes             Yes   \n",
       "7039          Yes              Yes          No         Yes             Yes   \n",
       "7040           No               No          No          No              No   \n",
       "7041           No               No          No          No              No   \n",
       "7042           No              Yes         Yes         Yes             Yes   \n",
       "\n",
       "            Contract PaperlessBilling              PaymentMethod  \\\n",
       "0     Month-to-month              Yes           Electronic check   \n",
       "1           One year               No               Mailed check   \n",
       "2     Month-to-month              Yes               Mailed check   \n",
       "3           One year               No  Bank transfer (automatic)   \n",
       "4     Month-to-month              Yes           Electronic check   \n",
       "...              ...              ...                        ...   \n",
       "7038        One year              Yes               Mailed check   \n",
       "7039        One year              Yes    Credit card (automatic)   \n",
       "7040  Month-to-month              Yes           Electronic check   \n",
       "7041  Month-to-month              Yes               Mailed check   \n",
       "7042        Two year              Yes  Bank transfer (automatic)   \n",
       "\n",
       "      MonthlyCharges TotalCharges Churn  \n",
       "0              29.85        29.85    No  \n",
       "1              56.95       1889.5    No  \n",
       "2              53.85       108.15   Yes  \n",
       "3              42.30      1840.75    No  \n",
       "4              70.70       151.65   Yes  \n",
       "...              ...          ...   ...  \n",
       "7038           84.80       1990.5    No  \n",
       "7039          103.20       7362.9    No  \n",
       "7040           29.60       346.45    No  \n",
       "7041           74.40        306.6   Yes  \n",
       "7042          105.65       6844.5    No  \n",
       "\n",
       "[7043 rows x 21 columns]"
      ]
     },
     "execution_count": 53,
     "metadata": {},
     "output_type": "execute_result"
    }
   ],
   "source": [
    "print('Dataset shape: ',df.shape)\n",
    "df"
   ]
  },
  {
   "cell_type": "code",
   "execution_count": 54,
   "metadata": {},
   "outputs": [
    {
     "data": {
      "text/html": [
       "<div>\n",
       "<style scoped>\n",
       "    .dataframe tbody tr th:only-of-type {\n",
       "        vertical-align: middle;\n",
       "    }\n",
       "\n",
       "    .dataframe tbody tr th {\n",
       "        vertical-align: top;\n",
       "    }\n",
       "\n",
       "    .dataframe thead th {\n",
       "        text-align: right;\n",
       "    }\n",
       "</style>\n",
       "<table border=\"1\" class=\"dataframe\">\n",
       "  <thead>\n",
       "    <tr style=\"text-align: right;\">\n",
       "      <th></th>\n",
       "      <th>SeniorCitizen</th>\n",
       "      <th>tenure</th>\n",
       "      <th>MonthlyCharges</th>\n",
       "    </tr>\n",
       "  </thead>\n",
       "  <tbody>\n",
       "    <tr>\n",
       "      <th>count</th>\n",
       "      <td>7043.000000</td>\n",
       "      <td>7043.000000</td>\n",
       "      <td>7043.000000</td>\n",
       "    </tr>\n",
       "    <tr>\n",
       "      <th>mean</th>\n",
       "      <td>0.162147</td>\n",
       "      <td>32.371149</td>\n",
       "      <td>64.761692</td>\n",
       "    </tr>\n",
       "    <tr>\n",
       "      <th>std</th>\n",
       "      <td>0.368612</td>\n",
       "      <td>24.559481</td>\n",
       "      <td>30.090047</td>\n",
       "    </tr>\n",
       "    <tr>\n",
       "      <th>min</th>\n",
       "      <td>0.000000</td>\n",
       "      <td>0.000000</td>\n",
       "      <td>18.250000</td>\n",
       "    </tr>\n",
       "    <tr>\n",
       "      <th>25%</th>\n",
       "      <td>0.000000</td>\n",
       "      <td>9.000000</td>\n",
       "      <td>35.500000</td>\n",
       "    </tr>\n",
       "    <tr>\n",
       "      <th>50%</th>\n",
       "      <td>0.000000</td>\n",
       "      <td>29.000000</td>\n",
       "      <td>70.350000</td>\n",
       "    </tr>\n",
       "    <tr>\n",
       "      <th>75%</th>\n",
       "      <td>0.000000</td>\n",
       "      <td>55.000000</td>\n",
       "      <td>89.850000</td>\n",
       "    </tr>\n",
       "    <tr>\n",
       "      <th>max</th>\n",
       "      <td>1.000000</td>\n",
       "      <td>72.000000</td>\n",
       "      <td>118.750000</td>\n",
       "    </tr>\n",
       "  </tbody>\n",
       "</table>\n",
       "</div>"
      ],
      "text/plain": [
       "       SeniorCitizen       tenure  MonthlyCharges\n",
       "count    7043.000000  7043.000000     7043.000000\n",
       "mean        0.162147    32.371149       64.761692\n",
       "std         0.368612    24.559481       30.090047\n",
       "min         0.000000     0.000000       18.250000\n",
       "25%         0.000000     9.000000       35.500000\n",
       "50%         0.000000    29.000000       70.350000\n",
       "75%         0.000000    55.000000       89.850000\n",
       "max         1.000000    72.000000      118.750000"
      ]
     },
     "execution_count": 54,
     "metadata": {},
     "output_type": "execute_result"
    }
   ],
   "source": [
    "df.describe()"
   ]
  },
  {
   "cell_type": "code",
   "execution_count": 55,
   "metadata": {},
   "outputs": [
    {
     "name": "stdout",
     "output_type": "stream",
     "text": [
      "<class 'pandas.core.frame.DataFrame'>\n",
      "RangeIndex: 7043 entries, 0 to 7042\n",
      "Data columns (total 21 columns):\n",
      " #   Column            Non-Null Count  Dtype  \n",
      "---  ------            --------------  -----  \n",
      " 0   customerID        7043 non-null   object \n",
      " 1   gender            7043 non-null   object \n",
      " 2   SeniorCitizen     7043 non-null   int64  \n",
      " 3   Partner           7043 non-null   object \n",
      " 4   Dependents        7043 non-null   object \n",
      " 5   tenure            7043 non-null   int64  \n",
      " 6   PhoneService      7043 non-null   object \n",
      " 7   MultipleLines     7043 non-null   object \n",
      " 8   InternetService   7043 non-null   object \n",
      " 9   OnlineSecurity    7043 non-null   object \n",
      " 10  OnlineBackup      7043 non-null   object \n",
      " 11  DeviceProtection  7043 non-null   object \n",
      " 12  TechSupport       7043 non-null   object \n",
      " 13  StreamingTV       7043 non-null   object \n",
      " 14  StreamingMovies   7043 non-null   object \n",
      " 15  Contract          7043 non-null   object \n",
      " 16  PaperlessBilling  7043 non-null   object \n",
      " 17  PaymentMethod     7043 non-null   object \n",
      " 18  MonthlyCharges    7043 non-null   float64\n",
      " 19  TotalCharges      7043 non-null   object \n",
      " 20  Churn             7043 non-null   object \n",
      "dtypes: float64(1), int64(2), object(18)\n",
      "memory usage: 1.1+ MB\n"
     ]
    }
   ],
   "source": [
    "df.info()"
   ]
  },
  {
   "cell_type": "code",
   "execution_count": 56,
   "metadata": {},
   "outputs": [
    {
     "data": {
      "text/plain": [
       "dtype('float64')"
      ]
     },
     "execution_count": 56,
     "metadata": {},
     "output_type": "execute_result"
    }
   ],
   "source": [
    "df['TotalCharges']=pd.to_numeric(df['TotalCharges'], errors='coerce')  #converting series object dataset into numeric\n",
    "\n",
    "df.TotalCharges.dtypes"
   ]
  },
  {
   "cell_type": "code",
   "execution_count": 57,
   "metadata": {},
   "outputs": [
    {
     "data": {
      "text/plain": [
       "TotalCharges    11\n",
       "dtype: int64"
      ]
     },
     "execution_count": 57,
     "metadata": {},
     "output_type": "execute_result"
    }
   ],
   "source": [
    "missing_data = df.isnull().sum(axis=0)  #checking missing value\n",
    "missing_data = missing_data[missing_data > 0]\n",
    "missing_data"
   ]
  },
  {
   "cell_type": "code",
   "execution_count": 58,
   "metadata": {},
   "outputs": [],
   "source": [
    "df['TotalCharges']=df['TotalCharges'].fillna(0)"
   ]
  },
  {
   "attachments": {},
   "cell_type": "markdown",
   "metadata": {},
   "source": [
    "Visualize dataset"
   ]
  },
  {
   "cell_type": "code",
   "execution_count": 65,
   "metadata": {},
   "outputs": [
    {
     "data": {
      "text/plain": [
       "<matplotlib.legend.Legend at 0x160048a5910>"
      ]
     },
     "execution_count": 65,
     "metadata": {},
     "output_type": "execute_result"
    },
    {
     "data": {
      "image/png": "[encoded data removed]",
      "text/plain": [
       "<Figure size 720x432 with 1 Axes>"
      ]
     },
     "metadata": {},
     "output_type": "display_data"
    }
   ],
   "source": [
    "value_count=df.Churn.value_counts()\n",
    "\n",
    "fig,ax=plt.subplots(figsize=(10, 6),subplot_kw=dict(aspect=\"equal\"))\n",
    "recipe = [\"Churn\",\"not Churn\"]\n",
    "plt.title('Composition of Churn',fontsize=18)\n",
    "\n",
    "data=[value_count[0],value_count[1]]\n",
    "\n",
    "plt.pie(data,explode = (0,0),\n",
    "        textprops=dict(size= 10, color= \"black\"),\n",
    "        autopct=lambda p : '{:.2f}%  ({:,.0f})'.format(p,p * sum(data)/100),startangle = 120,wedgeprops=dict( edgecolor = \"black\", linewidth = 3))\n",
    "\n",
    "\n",
    "labels='No','Yes'\n",
    "plt.legend(labels,title='Status',loc='center',bbox_to_anchor=(1,0,0.2,1))"
   ]
  },
  {
   "cell_type": "code",
   "execution_count": 66,
   "metadata": {},
   "outputs": [],
   "source": [
    "df=pd.get_dummies(df,columns=['Churn'],drop_first=True) #one hot encoding for Churn column"
   ]
  },
  {
   "cell_type": "code",
   "execution_count": 67,
   "metadata": {},
   "outputs": [
    {
     "data": {
      "text/plain": [
       "0    5174\n",
       "1    1869\n",
       "Name: Churn_Yes, dtype: int64"
      ]
     },
     "execution_count": 67,
     "metadata": {},
     "output_type": "execute_result"
    }
   ],
   "source": [
    "df['Churn_Yes'].value_counts()"
   ]
  },
  {
   "cell_type": "code",
   "execution_count": 68,
   "metadata": {},
   "outputs": [],
   "source": [
    "def stack_plot(data, xtick, col2='Churn_Yes', col3='total'):  #define for ditribution data\n",
    " ind = np.arange(data.shape[0])\n",
    "\n",
    " if len(data[xtick].unique())<5:\n",
    "    plt.figure(figsize=(5,5))\n",
    " elif len(data[xtick].unique())>=5 & len(data[xtick].unique())<10:\n",
    "    plt.figure(figsize=(7,7))\n",
    " else:\n",
    "    plt.figure(figsize=(10,10))\n",
    "    \n",
    " p1 = plt.bar(ind, data[col3].values)\n",
    " p2 = plt.bar(ind, data[col2].values)\n",
    " \n",
    " plt.ylabel('Count')\n",
    "\n",
    " plt.xticks(ticks=ind, rotation=90,labels= list(data[xtick].values))\n",
    " plt.legend((p1[0], p2[0]), ('Not Churn','Yes'))\n",
    " \n",
    " plt.show()\n",
    "\n",
    "def barplots(data, col1, col2='Churn_Yes', top=False):\n",
    "    temp = pd.DataFrame(df.groupby(col1)[col2].agg(lambda x: x.eq(1).sum())).reset_index()\n",
    "\n",
    "    temp['total'] = pd.DataFrame(df.groupby(col1)[col2].agg(total='count')).reset_index()['total']\n",
    "    temp['Avg'] = pd.DataFrame(df.groupby(col1)[col2].agg(Avg='mean')).reset_index()['Avg']\n",
    "\n",
    "    stack_plot(temp, xtick=col1, col2=col2, col3='total')\n",
    "    print(temp)"
   ]
  },
  {
   "cell_type": "code",
   "execution_count": 69,
   "metadata": {},
   "outputs": [
    {
     "data": {
      "image/png": "[encoded data removed]",
      "text/plain": [
       "<Figure size 360x360 with 1 Axes>"
      ]
     },
     "metadata": {
      "needs_background": "light"
     },
     "output_type": "display_data"
    },
    {
     "name": "stdout",
     "output_type": "stream",
     "text": [
      "   gender  Churn_Yes  total       Avg\n",
      "0  Female        939   3488  0.269209\n",
      "1    Male        930   3555  0.261603\n"
     ]
    }
   ],
   "source": [
    "barplots(data,'gender','Churn_Yes')"
   ]
  },
  {
   "cell_type": "code",
   "execution_count": 70,
   "metadata": {},
   "outputs": [
    {
     "data": {
      "image/png": "[encoded data removed]",
      "text/plain": [
       "<Figure size 360x360 with 1 Axes>"
      ]
     },
     "metadata": {
      "needs_background": "light"
     },
     "output_type": "display_data"
    },
    {
     "name": "stdout",
     "output_type": "stream",
     "text": [
      "  InternetService  Churn_Yes  total       Avg\n",
      "0             DSL        459   2421  0.189591\n",
      "1     Fiber optic       1297   3096  0.418928\n",
      "2              No        113   1526  0.074050\n"
     ]
    }
   ],
   "source": [
    "barplots(data,'InternetService','Churn_Yes')"
   ]
  },
  {
   "cell_type": "code",
   "execution_count": 71,
   "metadata": {},
   "outputs": [
    {
     "data": {
      "image/png": "[encoded data removed]",
      "text/plain": [
       "<Figure size 360x360 with 1 Axes>"
      ]
     },
     "metadata": {
      "needs_background": "light"
     },
     "output_type": "display_data"
    },
    {
     "name": "stdout",
     "output_type": "stream",
     "text": [
      "               PaymentMethod  Churn_Yes  total       Avg\n",
      "0  Bank transfer (automatic)        258   1544  0.167098\n",
      "1    Credit card (automatic)        232   1522  0.152431\n",
      "2           Electronic check       1071   2365  0.452854\n",
      "3               Mailed check        308   1612  0.191067\n"
     ]
    }
   ],
   "source": [
    "barplots(data,'PaymentMethod','Churn_Yes')"
   ]
  },
  {
   "cell_type": "code",
   "execution_count": 72,
   "metadata": {},
   "outputs": [
    {
     "data": {
      "image/png": "[encoded data removed]",
      "text/plain": [
       "<Figure size 360x360 with 1 Axes>"
      ]
     },
     "metadata": {
      "needs_background": "light"
     },
     "output_type": "display_data"
    },
    {
     "name": "stdout",
     "output_type": "stream",
     "text": [
      "         Contract  Churn_Yes  total       Avg\n",
      "0  Month-to-month       1655   3875  0.427097\n",
      "1        One year        166   1473  0.112695\n",
      "2        Two year         48   1695  0.028319\n"
     ]
    }
   ],
   "source": [
    "barplots(data,'Contract','Churn_Yes')"
   ]
  },
  {
   "cell_type": "code",
   "execution_count": 73,
   "metadata": {},
   "outputs": [
    {
     "data": {
      "text/plain": [
       "<seaborn.axisgrid.FacetGrid at 0x160048f2760>"
      ]
     },
     "execution_count": 73,
     "metadata": {},
     "output_type": "execute_result"
    },
    {
     "data": {
      "image/png": "[encoded data removed]",
      "text/plain": [
       "<Figure size 419x360 with 1 Axes>"
      ]
     },
     "metadata": {
      "needs_background": "light"
     },
     "output_type": "display_data"
    }
   ],
   "source": [
    "sns.displot(df,x='tenure',hue='Churn_Yes',edgecolor = \"#1c1c1c\", linewidth = 3,stat='count',multiple='stack')"
   ]
  },
  {
   "cell_type": "code",
   "execution_count": 74,
   "metadata": {},
   "outputs": [
    {
     "data": {
      "text/plain": [
       "<AxesSubplot:xlabel='MonthlyCharges', ylabel='Count'>"
      ]
     },
     "execution_count": 74,
     "metadata": {},
     "output_type": "execute_result"
    },
    {
     "data": {
      "image/png": "[encoded data removed]",
      "text/plain": [
       "<Figure size 432x288 with 1 Axes>"
      ]
     },
     "metadata": {
      "needs_background": "light"
     },
     "output_type": "display_data"
    }
   ],
   "source": [
    "\n",
    "sns.histplot(df,x='MonthlyCharges',hue='Churn_Yes',kde=True,multiple='stack',element='bars',bins='auto',edgecolor = \"#1c1c1c\", linewidth = 2)"
   ]
  },
  {
   "cell_type": "code",
   "execution_count": 75,
   "metadata": {},
   "outputs": [
    {
     "data": {
      "text/plain": [
       "<AxesSubplot:xlabel='TotalCharges', ylabel='Count'>"
      ]
     },
     "execution_count": 75,
     "metadata": {},
     "output_type": "execute_result"
    },
    {
     "data": {
      "image/png": "[encoded data removed]",
      "text/plain": [
       "<Figure size 432x288 with 1 Axes>"
      ]
     },
     "metadata": {
      "needs_background": "light"
     },
     "output_type": "display_data"
    }
   ],
   "source": [
    "sns.histplot(df,x='TotalCharges', hue='Churn_Yes',kde=True,multiple='stack',element='bars',bins='auto',edgecolor = \"#1c1c1c\", linewidth = 2)"
   ]
  },
  {
   "attachments": {},
   "cell_type": "markdown",
   "metadata": {},
   "source": [
    "# Data Preparation"
   ]
  },
  {
   "cell_type": "code",
   "execution_count": 76,
   "metadata": {},
   "outputs": [
    {
     "name": "stdout",
     "output_type": "stream",
     "text": [
      "<class 'pandas.core.frame.DataFrame'>\n",
      "RangeIndex: 7043 entries, 0 to 7042\n",
      "Data columns (total 21 columns):\n",
      " #   Column            Non-Null Count  Dtype  \n",
      "---  ------            --------------  -----  \n",
      " 0   customerID        7043 non-null   object \n",
      " 1   gender            7043 non-null   object \n",
      " 2   SeniorCitizen     7043 non-null   int64  \n",
      " 3   Partner           7043 non-null   object \n",
      " 4   Dependents        7043 non-null   object \n",
      " 5   tenure            7043 non-null   int64  \n",
      " 6   PhoneService      7043 non-null   object \n",
      " 7   MultipleLines     7043 non-null   object \n",
      " 8   InternetService   7043 non-null   object \n",
      " 9   OnlineSecurity    7043 non-null   object \n",
      " 10  OnlineBackup      7043 non-null   object \n",
      " 11  DeviceProtection  7043 non-null   object \n",
      " 12  TechSupport       7043 non-null   object \n",
      " 13  StreamingTV       7043 non-null   object \n",
      " 14  StreamingMovies   7043 non-null   object \n",
      " 15  Contract          7043 non-null   object \n",
      " 16  PaperlessBilling  7043 non-null   object \n",
      " 17  PaymentMethod     7043 non-null   object \n",
      " 18  MonthlyCharges    7043 non-null   float64\n",
      " 19  TotalCharges      7043 non-null   float64\n",
      " 20  Churn_Yes         7043 non-null   uint8  \n",
      "dtypes: float64(2), int64(2), object(16), uint8(1)\n",
      "memory usage: 1.1+ MB\n"
     ]
    }
   ],
   "source": [
    "df.info()"
   ]
  },
  {
   "cell_type": "code",
   "execution_count": 77,
   "metadata": {},
   "outputs": [],
   "source": [
    "df=df.drop(['customerID'],axis=1)"
   ]
  },
  {
   "cell_type": "code",
   "execution_count": 78,
   "metadata": {},
   "outputs": [
    {
     "data": {
      "text/html": [
       "<div>\n",
       "<style scoped>\n",
       "    .dataframe tbody tr th:only-of-type {\n",
       "        vertical-align: middle;\n",
       "    }\n",
       "\n",
       "    .dataframe tbody tr th {\n",
       "        vertical-align: top;\n",
       "    }\n",
       "\n",
       "    .dataframe thead th {\n",
       "        text-align: right;\n",
       "    }\n",
       "</style>\n",
       "<table border=\"1\" class=\"dataframe\">\n",
       "  <thead>\n",
       "    <tr style=\"text-align: right;\">\n",
       "      <th></th>\n",
       "      <th>variable</th>\n",
       "      <th>missing values</th>\n",
       "    </tr>\n",
       "  </thead>\n",
       "  <tbody>\n",
       "    <tr>\n",
       "      <th>0</th>\n",
       "      <td>gender</td>\n",
       "      <td>0</td>\n",
       "    </tr>\n",
       "    <tr>\n",
       "      <th>1</th>\n",
       "      <td>SeniorCitizen</td>\n",
       "      <td>0</td>\n",
       "    </tr>\n",
       "    <tr>\n",
       "      <th>2</th>\n",
       "      <td>TotalCharges</td>\n",
       "      <td>0</td>\n",
       "    </tr>\n",
       "    <tr>\n",
       "      <th>3</th>\n",
       "      <td>MonthlyCharges</td>\n",
       "      <td>0</td>\n",
       "    </tr>\n",
       "    <tr>\n",
       "      <th>4</th>\n",
       "      <td>PaymentMethod</td>\n",
       "      <td>0</td>\n",
       "    </tr>\n",
       "    <tr>\n",
       "      <th>5</th>\n",
       "      <td>PaperlessBilling</td>\n",
       "      <td>0</td>\n",
       "    </tr>\n",
       "    <tr>\n",
       "      <th>6</th>\n",
       "      <td>Contract</td>\n",
       "      <td>0</td>\n",
       "    </tr>\n",
       "    <tr>\n",
       "      <th>7</th>\n",
       "      <td>StreamingMovies</td>\n",
       "      <td>0</td>\n",
       "    </tr>\n",
       "    <tr>\n",
       "      <th>8</th>\n",
       "      <td>StreamingTV</td>\n",
       "      <td>0</td>\n",
       "    </tr>\n",
       "    <tr>\n",
       "      <th>9</th>\n",
       "      <td>TechSupport</td>\n",
       "      <td>0</td>\n",
       "    </tr>\n",
       "    <tr>\n",
       "      <th>10</th>\n",
       "      <td>DeviceProtection</td>\n",
       "      <td>0</td>\n",
       "    </tr>\n",
       "    <tr>\n",
       "      <th>11</th>\n",
       "      <td>OnlineBackup</td>\n",
       "      <td>0</td>\n",
       "    </tr>\n",
       "    <tr>\n",
       "      <th>12</th>\n",
       "      <td>OnlineSecurity</td>\n",
       "      <td>0</td>\n",
       "    </tr>\n",
       "    <tr>\n",
       "      <th>13</th>\n",
       "      <td>InternetService</td>\n",
       "      <td>0</td>\n",
       "    </tr>\n",
       "    <tr>\n",
       "      <th>14</th>\n",
       "      <td>MultipleLines</td>\n",
       "      <td>0</td>\n",
       "    </tr>\n",
       "    <tr>\n",
       "      <th>15</th>\n",
       "      <td>PhoneService</td>\n",
       "      <td>0</td>\n",
       "    </tr>\n",
       "    <tr>\n",
       "      <th>16</th>\n",
       "      <td>tenure</td>\n",
       "      <td>0</td>\n",
       "    </tr>\n",
       "    <tr>\n",
       "      <th>17</th>\n",
       "      <td>Dependents</td>\n",
       "      <td>0</td>\n",
       "    </tr>\n",
       "    <tr>\n",
       "      <th>18</th>\n",
       "      <td>Partner</td>\n",
       "      <td>0</td>\n",
       "    </tr>\n",
       "    <tr>\n",
       "      <th>19</th>\n",
       "      <td>Churn_Yes</td>\n",
       "      <td>0</td>\n",
       "    </tr>\n",
       "  </tbody>\n",
       "</table>\n",
       "</div>"
      ],
      "text/plain": [
       "            variable  missing values\n",
       "0             gender               0\n",
       "1      SeniorCitizen               0\n",
       "2       TotalCharges               0\n",
       "3     MonthlyCharges               0\n",
       "4      PaymentMethod               0\n",
       "5   PaperlessBilling               0\n",
       "6           Contract               0\n",
       "7    StreamingMovies               0\n",
       "8        StreamingTV               0\n",
       "9        TechSupport               0\n",
       "10  DeviceProtection               0\n",
       "11      OnlineBackup               0\n",
       "12    OnlineSecurity               0\n",
       "13   InternetService               0\n",
       "14     MultipleLines               0\n",
       "15      PhoneService               0\n",
       "16            tenure               0\n",
       "17        Dependents               0\n",
       "18           Partner               0\n",
       "19         Churn_Yes               0"
      ]
     },
     "execution_count": 78,
     "metadata": {},
     "output_type": "execute_result"
    }
   ],
   "source": [
    "missing_data = df.isnull().sum(axis=0).reset_index() \n",
    "missing_data.columns=['variable','missing values']\n",
    "missing_data.sort_values('missing values',ascending=False).reset_index(drop = True)"
   ]
  },
  {
   "cell_type": "code",
   "execution_count": 80,
   "metadata": {},
   "outputs": [
    {
     "data": {
      "text/plain": [
       "{'gender': {'Female': 0, 'Male': 1},\n",
       " 'Partner': {'No': 0, 'Yes': 1},\n",
       " 'Dependents': {'No': 0, 'Yes': 1},\n",
       " 'PhoneService': {'No': 0, 'Yes': 1},\n",
       " 'MultipleLines': {'No': 0, 'No phone service': 1, 'Yes': 2},\n",
       " 'InternetService': {'DSL': 0, 'Fiber optic': 1, 'No': 2},\n",
       " 'OnlineSecurity': {'No': 0, 'No internet service': 1, 'Yes': 2},\n",
       " 'OnlineBackup': {'No': 0, 'No internet service': 1, 'Yes': 2},\n",
       " 'DeviceProtection': {'No': 0, 'No internet service': 1, 'Yes': 2},\n",
       " 'TechSupport': {'No': 0, 'No internet service': 1, 'Yes': 2},\n",
       " 'StreamingTV': {'No': 0, 'No internet service': 1, 'Yes': 2},\n",
       " 'StreamingMovies': {'No': 0, 'No internet service': 1, 'Yes': 2},\n",
       " 'Contract': {'Month-to-month': 0, 'One year': 1, 'Two year': 2},\n",
       " 'PaperlessBilling': {'No': 0, 'Yes': 1},\n",
       " 'PaymentMethod': {'Bank transfer (automatic)': 0,\n",
       "  'Credit card (automatic)': 1,\n",
       "  'Electronic check': 2,\n",
       "  'Mailed check': 3}}"
      ]
     },
     "execution_count": 80,
     "metadata": {},
     "output_type": "execute_result"
    }
   ],
   "source": [
    "catcol = [col for col in df.columns if df[col].dtype == \"object\"] #encoding data\n",
    "le = LabelEncoder()\n",
    "label_mapping = {}\n",
    "for col in catcol:\n",
    "        df[col] = le.fit_transform(df[col])\n",
    "        label_mapping[col] = dict(zip(le.classes_,le.transform(le.classes_)))\\\n",
    "        \n",
    "label_mapping"
   ]
  },
  {
   "cell_type": "code",
   "execution_count": 81,
   "metadata": {},
   "outputs": [
    {
     "data": {
      "text/html": [
       "<div>\n",
       "<style scoped>\n",
       "    .dataframe tbody tr th:only-of-type {\n",
       "        vertical-align: middle;\n",
       "    }\n",
       "\n",
       "    .dataframe tbody tr th {\n",
       "        vertical-align: top;\n",
       "    }\n",
       "\n",
       "    .dataframe thead th {\n",
       "        text-align: right;\n",
       "    }\n",
       "</style>\n",
       "<table border=\"1\" class=\"dataframe\">\n",
       "  <thead>\n",
       "    <tr style=\"text-align: right;\">\n",
       "      <th></th>\n",
       "      <th>gender</th>\n",
       "      <th>SeniorCitizen</th>\n",
       "      <th>Partner</th>\n",
       "      <th>Dependents</th>\n",
       "      <th>tenure</th>\n",
       "      <th>PhoneService</th>\n",
       "      <th>MultipleLines</th>\n",
       "      <th>InternetService</th>\n",
       "      <th>OnlineSecurity</th>\n",
       "      <th>OnlineBackup</th>\n",
       "      <th>DeviceProtection</th>\n",
       "      <th>TechSupport</th>\n",
       "      <th>StreamingTV</th>\n",
       "      <th>StreamingMovies</th>\n",
       "      <th>Contract</th>\n",
       "      <th>PaperlessBilling</th>\n",
       "      <th>PaymentMethod</th>\n",
       "      <th>MonthlyCharges</th>\n",
       "      <th>TotalCharges</th>\n",
       "      <th>Churn_Yes</th>\n",
       "    </tr>\n",
       "  </thead>\n",
       "  <tbody>\n",
       "    <tr>\n",
       "      <th>0</th>\n",
       "      <td>0</td>\n",
       "      <td>0</td>\n",
       "      <td>1</td>\n",
       "      <td>0</td>\n",
       "      <td>1</td>\n",
       "      <td>0</td>\n",
       "      <td>1</td>\n",
       "      <td>0</td>\n",
       "      <td>0</td>\n",
       "      <td>2</td>\n",
       "      <td>0</td>\n",
       "      <td>0</td>\n",
       "      <td>0</td>\n",
       "      <td>0</td>\n",
       "      <td>0</td>\n",
       "      <td>1</td>\n",
       "      <td>2</td>\n",
       "      <td>29.85</td>\n",
       "      <td>29.85</td>\n",
       "      <td>0</td>\n",
       "    </tr>\n",
       "    <tr>\n",
       "      <th>1</th>\n",
       "      <td>1</td>\n",
       "      <td>0</td>\n",
       "      <td>0</td>\n",
       "      <td>0</td>\n",
       "      <td>34</td>\n",
       "      <td>1</td>\n",
       "      <td>0</td>\n",
       "      <td>0</td>\n",
       "      <td>2</td>\n",
       "      <td>0</td>\n",
       "      <td>2</td>\n",
       "      <td>0</td>\n",
       "      <td>0</td>\n",
       "      <td>0</td>\n",
       "      <td>1</td>\n",
       "      <td>0</td>\n",
       "      <td>3</td>\n",
       "      <td>56.95</td>\n",
       "      <td>1889.50</td>\n",
       "      <td>0</td>\n",
       "    </tr>\n",
       "    <tr>\n",
       "      <th>2</th>\n",
       "      <td>1</td>\n",
       "      <td>0</td>\n",
       "      <td>0</td>\n",
       "      <td>0</td>\n",
       "      <td>2</td>\n",
       "      <td>1</td>\n",
       "      <td>0</td>\n",
       "      <td>0</td>\n",
       "      <td>2</td>\n",
       "      <td>2</td>\n",
       "      <td>0</td>\n",
       "      <td>0</td>\n",
       "      <td>0</td>\n",
       "      <td>0</td>\n",
       "      <td>0</td>\n",
       "      <td>1</td>\n",
       "      <td>3</td>\n",
       "      <td>53.85</td>\n",
       "      <td>108.15</td>\n",
       "      <td>1</td>\n",
       "    </tr>\n",
       "    <tr>\n",
       "      <th>3</th>\n",
       "      <td>1</td>\n",
       "      <td>0</td>\n",
       "      <td>0</td>\n",
       "      <td>0</td>\n",
       "      <td>45</td>\n",
       "      <td>0</td>\n",
       "      <td>1</td>\n",
       "      <td>0</td>\n",
       "      <td>2</td>\n",
       "      <td>0</td>\n",
       "      <td>2</td>\n",
       "      <td>2</td>\n",
       "      <td>0</td>\n",
       "      <td>0</td>\n",
       "      <td>1</td>\n",
       "      <td>0</td>\n",
       "      <td>0</td>\n",
       "      <td>42.30</td>\n",
       "      <td>1840.75</td>\n",
       "      <td>0</td>\n",
       "    </tr>\n",
       "    <tr>\n",
       "      <th>4</th>\n",
       "      <td>0</td>\n",
       "      <td>0</td>\n",
       "      <td>0</td>\n",
       "      <td>0</td>\n",
       "      <td>2</td>\n",
       "      <td>1</td>\n",
       "      <td>0</td>\n",
       "      <td>1</td>\n",
       "      <td>0</td>\n",
       "      <td>0</td>\n",
       "      <td>0</td>\n",
       "      <td>0</td>\n",
       "      <td>0</td>\n",
       "      <td>0</td>\n",
       "      <td>0</td>\n",
       "      <td>1</td>\n",
       "      <td>2</td>\n",
       "      <td>70.70</td>\n",
       "      <td>151.65</td>\n",
       "      <td>1</td>\n",
       "    </tr>\n",
       "  </tbody>\n",
       "</table>\n",
       "</div>"
      ],
      "text/plain": [
       "   gender  SeniorCitizen  Partner  Dependents  tenure  PhoneService  \\\n",
       "0       0              0        1           0       1             0   \n",
       "1       1              0        0           0      34             1   \n",
       "2       1              0        0           0       2             1   \n",
       "3       1              0        0           0      45             0   \n",
       "4       0              0        0           0       2             1   \n",
       "\n",
       "   MultipleLines  InternetService  OnlineSecurity  OnlineBackup  \\\n",
       "0              1                0               0             2   \n",
       "1              0                0               2             0   \n",
       "2              0                0               2             2   \n",
       "3              1                0               2             0   \n",
       "4              0                1               0             0   \n",
       "\n",
       "   DeviceProtection  TechSupport  StreamingTV  StreamingMovies  Contract  \\\n",
       "0                 0            0            0                0         0   \n",
       "1                 2            0            0                0         1   \n",
       "2                 0            0            0                0         0   \n",
       "3                 2            2            0                0         1   \n",
       "4                 0            0            0                0         0   \n",
       "\n",
       "   PaperlessBilling  PaymentMethod  MonthlyCharges  TotalCharges  Churn_Yes  \n",
       "0                 1              2           29.85         29.85          0  \n",
       "1                 0              3           56.95       1889.50          0  \n",
       "2                 1              3           53.85        108.15          1  \n",
       "3                 0              0           42.30       1840.75          0  \n",
       "4                 1              2           70.70        151.65          1  "
      ]
     },
     "execution_count": 81,
     "metadata": {},
     "output_type": "execute_result"
    }
   ],
   "source": [
    "df.head()"
   ]
  },
  {
   "attachments": {},
   "cell_type": "markdown",
   "metadata": {},
   "source": [
    "Correlation"
   ]
  },
  {
   "cell_type": "code",
   "execution_count": 82,
   "metadata": {},
   "outputs": [
    {
     "data": {
      "text/html": [
       "<div>\n",
       "<style scoped>\n",
       "    .dataframe tbody tr th:only-of-type {\n",
       "        vertical-align: middle;\n",
       "    }\n",
       "\n",
       "    .dataframe tbody tr th {\n",
       "        vertical-align: top;\n",
       "    }\n",
       "\n",
       "    .dataframe thead th {\n",
       "        text-align: right;\n",
       "    }\n",
       "</style>\n",
       "<table border=\"1\" class=\"dataframe\">\n",
       "  <thead>\n",
       "    <tr style=\"text-align: right;\">\n",
       "      <th></th>\n",
       "      <th>index</th>\n",
       "      <th>Churn_Yes</th>\n",
       "    </tr>\n",
       "  </thead>\n",
       "  <tbody>\n",
       "    <tr>\n",
       "      <th>0</th>\n",
       "      <td>Churn_Yes</td>\n",
       "      <td>1.000000</td>\n",
       "    </tr>\n",
       "    <tr>\n",
       "      <th>1</th>\n",
       "      <td>MonthlyCharges</td>\n",
       "      <td>0.193356</td>\n",
       "    </tr>\n",
       "    <tr>\n",
       "      <th>2</th>\n",
       "      <td>PaperlessBilling</td>\n",
       "      <td>0.191825</td>\n",
       "    </tr>\n",
       "    <tr>\n",
       "      <th>3</th>\n",
       "      <td>SeniorCitizen</td>\n",
       "      <td>0.150889</td>\n",
       "    </tr>\n",
       "    <tr>\n",
       "      <th>4</th>\n",
       "      <td>PaymentMethod</td>\n",
       "      <td>0.107062</td>\n",
       "    </tr>\n",
       "    <tr>\n",
       "      <th>5</th>\n",
       "      <td>MultipleLines</td>\n",
       "      <td>0.038037</td>\n",
       "    </tr>\n",
       "    <tr>\n",
       "      <th>6</th>\n",
       "      <td>PhoneService</td>\n",
       "      <td>0.011942</td>\n",
       "    </tr>\n",
       "    <tr>\n",
       "      <th>7</th>\n",
       "      <td>gender</td>\n",
       "      <td>-0.008612</td>\n",
       "    </tr>\n",
       "    <tr>\n",
       "      <th>8</th>\n",
       "      <td>StreamingTV</td>\n",
       "      <td>-0.036581</td>\n",
       "    </tr>\n",
       "    <tr>\n",
       "      <th>9</th>\n",
       "      <td>StreamingMovies</td>\n",
       "      <td>-0.038492</td>\n",
       "    </tr>\n",
       "    <tr>\n",
       "      <th>10</th>\n",
       "      <td>InternetService</td>\n",
       "      <td>-0.047291</td>\n",
       "    </tr>\n",
       "    <tr>\n",
       "      <th>11</th>\n",
       "      <td>Partner</td>\n",
       "      <td>-0.150448</td>\n",
       "    </tr>\n",
       "    <tr>\n",
       "      <th>12</th>\n",
       "      <td>Dependents</td>\n",
       "      <td>-0.164221</td>\n",
       "    </tr>\n",
       "    <tr>\n",
       "      <th>13</th>\n",
       "      <td>DeviceProtection</td>\n",
       "      <td>-0.178134</td>\n",
       "    </tr>\n",
       "    <tr>\n",
       "      <th>14</th>\n",
       "      <td>OnlineBackup</td>\n",
       "      <td>-0.195525</td>\n",
       "    </tr>\n",
       "    <tr>\n",
       "      <th>15</th>\n",
       "      <td>TotalCharges</td>\n",
       "      <td>-0.198324</td>\n",
       "    </tr>\n",
       "    <tr>\n",
       "      <th>16</th>\n",
       "      <td>TechSupport</td>\n",
       "      <td>-0.282492</td>\n",
       "    </tr>\n",
       "    <tr>\n",
       "      <th>17</th>\n",
       "      <td>OnlineSecurity</td>\n",
       "      <td>-0.289309</td>\n",
       "    </tr>\n",
       "    <tr>\n",
       "      <th>18</th>\n",
       "      <td>tenure</td>\n",
       "      <td>-0.352229</td>\n",
       "    </tr>\n",
       "    <tr>\n",
       "      <th>19</th>\n",
       "      <td>Contract</td>\n",
       "      <td>-0.396713</td>\n",
       "    </tr>\n",
       "  </tbody>\n",
       "</table>\n",
       "</div>"
      ],
      "text/plain": [
       "               index  Churn_Yes\n",
       "0          Churn_Yes   1.000000\n",
       "1     MonthlyCharges   0.193356\n",
       "2   PaperlessBilling   0.191825\n",
       "3      SeniorCitizen   0.150889\n",
       "4      PaymentMethod   0.107062\n",
       "5      MultipleLines   0.038037\n",
       "6       PhoneService   0.011942\n",
       "7             gender  -0.008612\n",
       "8        StreamingTV  -0.036581\n",
       "9    StreamingMovies  -0.038492\n",
       "10   InternetService  -0.047291\n",
       "11           Partner  -0.150448\n",
       "12        Dependents  -0.164221\n",
       "13  DeviceProtection  -0.178134\n",
       "14      OnlineBackup  -0.195525\n",
       "15      TotalCharges  -0.198324\n",
       "16       TechSupport  -0.282492\n",
       "17    OnlineSecurity  -0.289309\n",
       "18            tenure  -0.352229\n",
       "19          Contract  -0.396713"
      ]
     },
     "execution_count": 82,
     "metadata": {},
     "output_type": "execute_result"
    }
   ],
   "source": [
    "df2=df.corr().Churn_Yes.sort_values(ascending=False).reset_index()\n",
    "df2"
   ]
  },
  {
   "attachments": {},
   "cell_type": "markdown",
   "metadata": {},
   "source": [
    "Split"
   ]
  },
  {
   "cell_type": "code",
   "execution_count": 84,
   "metadata": {},
   "outputs": [],
   "source": [
    "X=df.drop(['Churn_Yes'],1)\n",
    "y=df[['Churn_Yes']].values.reshape(-1,1)"
   ]
  },
  {
   "attachments": {},
   "cell_type": "markdown",
   "metadata": {},
   "source": [
    "Balancing"
   ]
  },
  {
   "cell_type": "code",
   "execution_count": 102,
   "metadata": {},
   "outputs": [],
   "source": [
    "from imblearn.over_sampling import RandomOverSampler\n",
    "\n",
    "oversample = RandomOverSampler(sampling_strategy=1)\n",
    "X_over, y_over = oversample.fit_resample(X, y)"
   ]
  },
  {
   "cell_type": "code",
   "execution_count": 103,
   "metadata": {},
   "outputs": [],
   "source": [
    "train_X,test_X,train_y,test_y = train_test_split(X_over,y_over,test_size=0.2,random_state=0)"
   ]
  },
  {
   "cell_type": "code",
   "execution_count": 104,
   "metadata": {},
   "outputs": [
    {
     "data": {
      "text/plain": [
       "((2070, 19), (2070,))"
      ]
     },
     "execution_count": 104,
     "metadata": {},
     "output_type": "execute_result"
    }
   ],
   "source": [
    "test_X.shape,test_y.shape"
   ]
  },
  {
   "attachments": {},
   "cell_type": "markdown",
   "metadata": {},
   "source": [
    "# Machine Learning Modelling"
   ]
  },
  {
   "attachments": {},
   "cell_type": "markdown",
   "metadata": {},
   "source": [
    "Decision Tree"
   ]
  },
  {
   "cell_type": "code",
   "execution_count": 105,
   "metadata": {},
   "outputs": [
    {
     "name": "stdout",
     "output_type": "stream",
     "text": [
      "Score:  0.8814288682950293\n"
     ]
    }
   ],
   "source": [
    "dtr=DecisionTreeClassifier()\n",
    "dtr.fit(train_X,train_y)\n",
    "crosval_dtr=cross_val_score(dtr,X_over,y_over,cv=5)\n",
    "print('Score: ',crosval_dtr.mean())"
   ]
  },
  {
   "cell_type": "code",
   "execution_count": 106,
   "metadata": {},
   "outputs": [
    {
     "data": {
      "text/plain": [
       "<AxesSubplot:>"
      ]
     },
     "execution_count": 106,
     "metadata": {},
     "output_type": "execute_result"
    },
    {
     "data": {
      "image/png": "[encoded data removed]",
      "text/plain": [
       "<Figure size 720x576 with 1 Axes>"
      ]
     },
     "metadata": {
      "needs_background": "light"
     },
     "output_type": "display_data"
    }
   ],
   "source": [
    "feat_importances = pd.DataFrame(dtr.feature_importances_, index=test_X.columns, columns=[\"Importance\"])\n",
    "feat_importances.sort_values(by='Importance', ascending=True, inplace=True)\n",
    "feat_importances.plot(kind='barh',figsize=(10,8))\n"
   ]
  },
  {
   "cell_type": "code",
   "execution_count": 107,
   "metadata": {},
   "outputs": [
    {
     "name": "stdout",
     "output_type": "stream",
     "text": [
      "Confusion Matrix : \n",
      "\n",
      "[[797 236]\n",
      " [ 55 982]]\n",
      "\n",
      "Classification Report : \n",
      "\n",
      "              precision    recall  f1-score   support\n",
      "\n",
      "           0       0.94      0.77      0.85      1033\n",
      "           1       0.81      0.95      0.87      1037\n",
      "\n",
      "    accuracy                           0.86      2070\n",
      "   macro avg       0.87      0.86      0.86      2070\n",
      "weighted avg       0.87      0.86      0.86      2070\n",
      "\n",
      "\n",
      "The Accuracy of Decision Tree is 85.942 %\n",
      "ROC AUC Score with Decision Tree: 0.8592507988547647\n"
     ]
    }
   ],
   "source": [
    "dtr_pred=dtr.predict(test_X)\n",
    "dtr_conf=confusion_matrix(test_y,dtr_pred)\n",
    "dtr_report=classification_report(test_y,dtr_pred)\n",
    "dtr_acc=round(accuracy_score(test_y,dtr_pred)*100,ndigits=3)\n",
    "dtr_rocauc=roc_auc_score(test_y, dtr_pred)\n",
    "print(f\"Confusion Matrix : \\n\\n{dtr_conf}\")\n",
    "print(f\"\\nClassification Report : \\n\\n{dtr_report}\")\n",
    "print(f\"\\nThe Accuracy of Decision Tree is {dtr_acc} %\")\n",
    "print(f'ROC AUC Score with Decision Tree: {dtr_rocauc}')"
   ]
  },
  {
   "attachments": {},
   "cell_type": "markdown",
   "metadata": {},
   "source": [
    "Random forest"
   ]
  },
  {
   "cell_type": "code",
   "execution_count": 109,
   "metadata": {},
   "outputs": [
    {
     "name": "stdout",
     "output_type": "stream",
     "text": [
      "Score:  0.9024963400368448\n"
     ]
    }
   ],
   "source": [
    "rfc = RandomForestClassifier(n_estimators = 100, random_state = 42) \n",
    "rfc.fit(train_X,train_y)\n",
    "crosval_rfc=cross_val_score(rfc,X_over,y_over,cv=5)\n",
    "print('Score: ',crosval_rfc.mean())\n"
   ]
  },
  {
   "cell_type": "code",
   "execution_count": 110,
   "metadata": {},
   "outputs": [
    {
     "name": "stdout",
     "output_type": "stream",
     "text": [
      "Confusion Matrix : \n",
      "\n",
      "[[853 180]\n",
      " [ 48 989]]\n",
      "\n",
      "Classification Report : \n",
      "\n",
      "              precision    recall  f1-score   support\n",
      "\n",
      "           0       0.95      0.83      0.88      1033\n",
      "           1       0.85      0.95      0.90      1037\n",
      "\n",
      "    accuracy                           0.89      2070\n",
      "   macro avg       0.90      0.89      0.89      2070\n",
      "weighted avg       0.90      0.89      0.89      2070\n",
      "\n",
      "\n",
      "The Accuracy of Random Forest Classifier is 88.99 %\n",
      "ROC AUC score wiht Random Forest Classifier: 0.8897314373037869\n"
     ]
    }
   ],
   "source": [
    "rfc_pred = rfc.predict(test_X)\n",
    "rfc_conf = confusion_matrix(test_y, rfc_pred)\n",
    "rfc_report = classification_report(test_y, rfc_pred)\n",
    "rfc_acc = round(accuracy_score(test_y, rfc_pred)*100, ndigits = 2)\n",
    "rfc_rocauc=roc_auc_score(test_y, rfc_pred)\n",
    "print(f\"Confusion Matrix : \\n\\n{rfc_conf}\")\n",
    "print(f\"\\nClassification Report : \\n\\n{rfc_report}\")\n",
    "print(f\"\\nThe Accuracy of Random Forest Classifier is {rfc_acc} %\")\n",
    "print(f'ROC AUC score wiht Random Forest Classifier: {rfc_rocauc}')"
   ]
  },
  {
   "attachments": {},
   "cell_type": "markdown",
   "metadata": {},
   "source": [
    "Logistic Regresion"
   ]
  },
  {
   "cell_type": "code",
   "execution_count": 111,
   "metadata": {},
   "outputs": [
    {
     "name": "stdout",
     "output_type": "stream",
     "text": [
      "Score:  0.7626598767637287\n"
     ]
    }
   ],
   "source": [
    "lr=LogisticRegression()\n",
    "lr.fit(train_X,train_y)\n",
    "crosval=cross_val_score(lr,X_over,y_over,cv=5)\n",
    "print('Score: ',crosval.mean())"
   ]
  },
  {
   "cell_type": "code",
   "execution_count": 112,
   "metadata": {},
   "outputs": [
    {
     "name": "stdout",
     "output_type": "stream",
     "text": [
      "Confusion Matrix : \n",
      "\n",
      "[[752 281]\n",
      " [207 830]]\n",
      "\n",
      "Classification Report : \n",
      "\n",
      "              precision    recall  f1-score   support\n",
      "\n",
      "           0       0.78      0.73      0.76      1033\n",
      "           1       0.75      0.80      0.77      1037\n",
      "\n",
      "    accuracy                           0.76      2070\n",
      "   macro avg       0.77      0.76      0.76      2070\n",
      "weighted avg       0.77      0.76      0.76      2070\n",
      "\n",
      "\n",
      "The Accuracy of Logistic Regresion is 76.43 %\n",
      "ROC AUC score wiht Logistic Regresion: 0.7641812473803259\n"
     ]
    }
   ],
   "source": [
    "lr_pred = lr.predict(test_X)\n",
    "lr_conf = confusion_matrix(test_y, lr_pred)\n",
    "lr_report = classification_report(test_y, lr_pred)\n",
    "lr_acc = round(accuracy_score(test_y, lr_pred)*100, ndigits = 2)\n",
    "lr_rocauc=roc_auc_score(test_y, lr_pred)\n",
    "print(f\"Confusion Matrix : \\n\\n{lr_conf}\")\n",
    "print(f\"\\nClassification Report : \\n\\n{lr_report}\")\n",
    "print(f\"\\nThe Accuracy of Logistic Regresion is {lr_acc} %\")\n",
    "print(f'ROC AUC score wiht Logistic Regresion: {lr_rocauc}')\n",
    "\n"
   ]
  },
  {
   "attachments": {},
   "cell_type": "markdown",
   "metadata": {},
   "source": [
    "Gradien Boost"
   ]
  },
  {
   "cell_type": "code",
   "execution_count": 113,
   "metadata": {},
   "outputs": [
    {
     "name": "stdout",
     "output_type": "stream",
     "text": [
      "Score:  0.781021894401599\n"
     ]
    }
   ],
   "source": [
    "gradien=GradientBoostingClassifier()\n",
    "\n",
    "gradien.fit(train_X,train_y)\n",
    "crosval=cross_val_score(gradien,X_over,y_over,cv=5)\n",
    "print('Score: ',crosval.mean())"
   ]
  },
  {
   "cell_type": "code",
   "execution_count": 114,
   "metadata": {},
   "outputs": [
    {
     "name": "stdout",
     "output_type": "stream",
     "text": [
      "Confusion Matrix : \n",
      "\n",
      "[[753 280]\n",
      " [173 864]]\n",
      "\n",
      "Classification Report : \n",
      "\n",
      "              precision    recall  f1-score   support\n",
      "\n",
      "           0       0.81      0.73      0.77      1033\n",
      "           1       0.76      0.83      0.79      1037\n",
      "\n",
      "    accuracy                           0.78      2070\n",
      "   macro avg       0.78      0.78      0.78      2070\n",
      "weighted avg       0.78      0.78      0.78      2070\n",
      "\n",
      "\n",
      "The Accuracy of Gradien Boost is 78.116 %\n",
      "ROC AUC score wiht Gradien Boost: 0.7810587171087945\n"
     ]
    }
   ],
   "source": [
    "gradien_pred=gradien.predict(test_X)\n",
    "gradien_conf=confusion_matrix(test_y,gradien_pred)\n",
    "gradien_report=classification_report(test_y,gradien_pred)\n",
    "gradien_acc=round(accuracy_score(test_y,gradien_pred)*100,ndigits=3)\n",
    "gradien_rocauc=roc_auc_score(test_y, gradien_pred)\n",
    "print(f\"Confusion Matrix : \\n\\n{gradien_conf}\")\n",
    "print(f\"\\nClassification Report : \\n\\n{gradien_report}\")\n",
    "print(f\"\\nThe Accuracy of Gradien Boost is {gradien_acc} %\")\n",
    "print(f'ROC AUC score wiht Gradien Boost: {gradien_rocauc}')"
   ]
  },
  {
   "attachments": {},
   "cell_type": "markdown",
   "metadata": {},
   "source": [
    "SGD Classifier"
   ]
  },
  {
   "cell_type": "code",
   "execution_count": 115,
   "metadata": {},
   "outputs": [
    {
     "name": "stdout",
     "output_type": "stream",
     "text": [
      "Score:  0.6988793858266613\n"
     ]
    }
   ],
   "source": [
    "sgd=SGDClassifier()\n",
    "\n",
    "sgd.fit(train_X,train_y)\n",
    "crosval=cross_val_score(sgd,X_over,y_over,cv=5)\n",
    "print('Score: ',crosval.mean())"
   ]
  },
  {
   "cell_type": "code",
   "execution_count": 116,
   "metadata": {},
   "outputs": [
    {
     "name": "stdout",
     "output_type": "stream",
     "text": [
      "Confusion Matrix : \n",
      "\n",
      "[[924 109]\n",
      " [616 421]]\n",
      "\n",
      "Classification Report : \n",
      "\n",
      "              precision    recall  f1-score   support\n",
      "\n",
      "           0       0.60      0.89      0.72      1033\n",
      "           1       0.79      0.41      0.54      1037\n",
      "\n",
      "    accuracy                           0.65      2070\n",
      "   macro avg       0.70      0.65      0.63      2070\n",
      "weighted avg       0.70      0.65      0.63      2070\n",
      "\n",
      "\n",
      "The Accuracy of SGD is 64.976 %\n",
      "ROC AUC Score with SGD: 0.6502304379768508\n"
     ]
    }
   ],
   "source": [
    "sgd_pred=sgd.predict(test_X)\n",
    "sgd_conf=confusion_matrix(test_y,sgd_pred)\n",
    "sgd_report=classification_report(test_y,sgd_pred)\n",
    "sgd_acc=round(accuracy_score(test_y,sgd_pred)*100,ndigits=3)\n",
    "sgd_rocauc=roc_auc_score(test_y, sgd_pred)\n",
    "print(f\"Confusion Matrix : \\n\\n{sgd_conf}\")\n",
    "print(f\"\\nClassification Report : \\n\\n{sgd_report}\")\n",
    "print(f\"\\nThe Accuracy of SGD is {sgd_acc} %\")\n",
    "print(f'ROC AUC Score with SGD: {sgd_rocauc}')"
   ]
  },
  {
   "attachments": {},
   "cell_type": "markdown",
   "metadata": {},
   "source": [
    "GauusianNB"
   ]
  },
  {
   "cell_type": "code",
   "execution_count": 117,
   "metadata": {},
   "outputs": [
    {
     "name": "stdout",
     "output_type": "stream",
     "text": [
      "Score:  0.7512559219021069\n"
     ]
    }
   ],
   "source": [
    "gnb=GaussianNB()\n",
    "\n",
    "gnb.fit(train_X,train_y)\n",
    "crosval=cross_val_score(gnb,X_over,y_over,cv=5)\n",
    "print('Score: ',crosval.mean())\n"
   ]
  },
  {
   "cell_type": "code",
   "execution_count": 118,
   "metadata": {},
   "outputs": [
    {
     "name": "stdout",
     "output_type": "stream",
     "text": [
      "Confusion Matrix : \n",
      "\n",
      "[[730 303]\n",
      " [206 831]]\n",
      "\n",
      "Classification Report : \n",
      "\n",
      "              precision    recall  f1-score   support\n",
      "\n",
      "           0       0.78      0.71      0.74      1033\n",
      "           1       0.73      0.80      0.77      1037\n",
      "\n",
      "    accuracy                           0.75      2070\n",
      "   macro avg       0.76      0.75      0.75      2070\n",
      "weighted avg       0.76      0.75      0.75      2070\n",
      "\n",
      "\n",
      "The Accuracy of Gaussian is 75.411 %\n",
      "ROC AUC Score with Gaussian Naive Bayes: 0.7540148111360775\n"
     ]
    }
   ],
   "source": [
    "gnb_pred=gnb.predict(test_X)\n",
    "gnb_conf=confusion_matrix(test_y,gnb_pred)\n",
    "gnb_report=classification_report(test_y,gnb_pred)\n",
    "gnb_acc=round(accuracy_score(test_y,gnb_pred)*100,ndigits=3)\n",
    "gnb_rocauc=roc_auc_score(test_y, gnb_pred)\n",
    "print(f\"Confusion Matrix : \\n\\n{gnb_conf}\")\n",
    "print(f\"\\nClassification Report : \\n\\n{gnb_report}\")\n",
    "print(f\"\\nThe Accuracy of Gaussian is {gnb_acc} %\")\n",
    "print(f'ROC AUC Score with Gaussian Naive Bayes: {gnb_rocauc}',)"
   ]
  },
  {
   "attachments": {},
   "cell_type": "markdown",
   "metadata": {},
   "source": [
    "XGBoost"
   ]
  },
  {
   "cell_type": "code",
   "execution_count": 119,
   "metadata": {},
   "outputs": [
    {
     "name": "stdout",
     "output_type": "stream",
     "text": [
      "Score:  0.859685721824121\n"
     ]
    }
   ],
   "source": [
    "xgboost=XGBClassifier(objective='binary:logistic',eval_metric = 'auc', n_jobs=-1)\n",
    "xgboost.fit(train_X,train_y)\n",
    "crosval=cross_val_score(xgboost,X_over,y_over,cv=5)\n",
    "print('Score: ',crosval.mean())"
   ]
  },
  {
   "cell_type": "code",
   "execution_count": 120,
   "metadata": {},
   "outputs": [
    {
     "name": "stdout",
     "output_type": "stream",
     "text": [
      "Confusion Matrix : \n",
      "\n",
      "[[808 225]\n",
      " [ 72 965]]\n",
      "\n",
      "Classification Report : \n",
      "\n",
      "              precision    recall  f1-score   support\n",
      "\n",
      "           0       0.92      0.78      0.84      1033\n",
      "           1       0.81      0.93      0.87      1037\n",
      "\n",
      "    accuracy                           0.86      2070\n",
      "   macro avg       0.86      0.86      0.86      2070\n",
      "weighted avg       0.86      0.86      0.86      2070\n",
      "\n",
      "\n",
      "The Accuracy of XGB is 85.652 %\n",
      "ROC AUC Score with XGBOOST: 0.8563783757039864\n"
     ]
    }
   ],
   "source": [
    "xgboost_pred=xgboost.predict(test_X)\n",
    "xgboost_conf=confusion_matrix(test_y,xgboost_pred)\n",
    "xgboost_report=classification_report(test_y,xgboost_pred)\n",
    "xgboost_acc=round(accuracy_score(test_y,xgboost_pred)*100,ndigits=3)\n",
    "xgboost_rocauc=roc_auc_score(test_y, xgboost_pred)\n",
    "print(f\"Confusion Matrix : \\n\\n{xgboost_conf}\")\n",
    "print(f\"\\nClassification Report : \\n\\n{xgboost_report}\")\n",
    "print(f\"\\nThe Accuracy of XGB is {xgboost_acc} %\")\n",
    "print(f'ROC AUC Score with XGBOOST: {xgboost_rocauc}')\n"
   ]
  },
  {
   "cell_type": "code",
   "execution_count": 121,
   "metadata": {},
   "outputs": [
    {
     "name": "stdout",
     "output_type": "stream",
     "text": [
      "Score:  0.7602450715998532\n"
     ]
    }
   ],
   "source": [
    "from sklearn.neighbors import KNeighborsClassifier\n",
    "\n",
    "knn=KNeighborsClassifier()\n",
    "knn.fit(train_X,train_y)\n",
    "crosval=cross_val_score(knn,X_over,y_over,cv=5)\n",
    "print('Score: ',crosval.mean())"
   ]
  },
  {
   "cell_type": "code",
   "execution_count": 122,
   "metadata": {},
   "outputs": [
    {
     "name": "stdout",
     "output_type": "stream",
     "text": [
      "Confusion Matrix : \n",
      "\n",
      "[[709 324]\n",
      " [168 869]]\n",
      "\n",
      "Classification Report : \n",
      "\n",
      "              precision    recall  f1-score   support\n",
      "\n",
      "           0       0.81      0.69      0.74      1033\n",
      "           1       0.73      0.84      0.78      1037\n",
      "\n",
      "    accuracy                           0.76      2070\n",
      "   macro avg       0.77      0.76      0.76      2070\n",
      "weighted avg       0.77      0.76      0.76      2070\n",
      "\n",
      "\n",
      "The Accuracy of KNN is 76.232 %\n",
      "ROC AUC Score with KNN: 0.7621723248517347\n"
     ]
    }
   ],
   "source": [
    "knn_pred=knn.predict(test_X)\n",
    "knn_conf=confusion_matrix(test_y,knn_pred)\n",
    "knn_report=classification_report(test_y,knn_pred)\n",
    "knn_acc=round(accuracy_score(test_y,knn_pred)*100,ndigits=3)\n",
    "knn_rocauc=roc_auc_score(test_y, knn_pred)\n",
    "print(f\"Confusion Matrix : \\n\\n{knn_conf}\")\n",
    "print(f\"\\nClassification Report : \\n\\n{knn_report}\")\n",
    "print(f\"\\nThe Accuracy of KNN is {knn_acc} %\")\n",
    "print(f'ROC AUC Score with KNN: {knn_rocauc}')\n"
   ]
  },
  {
   "cell_type": "code",
   "execution_count": 126,
   "metadata": {},
   "outputs": [
    {
     "data": {
      "text/html": [
       "<style type=\"text/css\">\n",
       "#T_02075_row0_col1, #T_02075_row0_col2 {\n",
       "  background-color: #800026;\n",
       "  color: #f1f1f1;\n",
       "}\n",
       "#T_02075_row1_col1, #T_02075_row1_col2 {\n",
       "  background-color: #be0126;\n",
       "  color: #f1f1f1;\n",
       "}\n",
       "#T_02075_row2_col1, #T_02075_row2_col2 {\n",
       "  background-color: #c20325;\n",
       "  color: #f1f1f1;\n",
       "}\n",
       "#T_02075_row3_col1, #T_02075_row3_col2 {\n",
       "  background-color: #fd7836;\n",
       "  color: #f1f1f1;\n",
       "}\n",
       "#T_02075_row4_col1, #T_02075_row4_col2 {\n",
       "  background-color: #fd9740;\n",
       "  color: #000000;\n",
       "}\n",
       "#T_02075_row5_col1, #T_02075_row5_col2 {\n",
       "  background-color: #fd9941;\n",
       "  color: #000000;\n",
       "}\n",
       "#T_02075_row6_col1, #T_02075_row6_col2 {\n",
       "  background-color: #fea446;\n",
       "  color: #000000;\n",
       "}\n",
       "#T_02075_row7_col1, #T_02075_row7_col2 {\n",
       "  background-color: #ffffcc;\n",
       "  color: #000000;\n",
       "}\n",
       "</style>\n",
       "<table id=\"T_02075\">\n",
       "  <thead>\n",
       "    <tr>\n",
       "      <th class=\"blank level0\" >&nbsp;</th>\n",
       "      <th id=\"T_02075_level0_col0\" class=\"col_heading level0 col0\" >Models</th>\n",
       "      <th id=\"T_02075_level0_col1\" class=\"col_heading level0 col1\" >Testing Accuracy Score</th>\n",
       "      <th id=\"T_02075_level0_col2\" class=\"col_heading level0 col2\" >ROC AUC Score</th>\n",
       "    </tr>\n",
       "  </thead>\n",
       "  <tbody>\n",
       "    <tr>\n",
       "      <th id=\"T_02075_level0_row0\" class=\"row_heading level0 row0\" >4</th>\n",
       "      <td id=\"T_02075_row0_col0\" class=\"data row0 col0\" >Random Forest Classifier</td>\n",
       "      <td id=\"T_02075_row0_col1\" class=\"data row0 col1\" >88.990000</td>\n",
       "      <td id=\"T_02075_row0_col2\" class=\"data row0 col2\" >0.889731</td>\n",
       "    </tr>\n",
       "    <tr>\n",
       "      <th id=\"T_02075_level0_row1\" class=\"row_heading level0 row1\" >1</th>\n",
       "      <td id=\"T_02075_row1_col0\" class=\"data row1 col0\" >Decision Tree Classifier</td>\n",
       "      <td id=\"T_02075_row1_col1\" class=\"data row1 col1\" >85.942000</td>\n",
       "      <td id=\"T_02075_row1_col2\" class=\"data row1 col2\" >0.859251</td>\n",
       "    </tr>\n",
       "    <tr>\n",
       "      <th id=\"T_02075_level0_row2\" class=\"row_heading level0 row2\" >0</th>\n",
       "      <td id=\"T_02075_row2_col0\" class=\"data row2 col0\" >XGBoost Classifier</td>\n",
       "      <td id=\"T_02075_row2_col1\" class=\"data row2 col1\" >85.652000</td>\n",
       "      <td id=\"T_02075_row2_col2\" class=\"data row2 col2\" >0.856378</td>\n",
       "    </tr>\n",
       "    <tr>\n",
       "      <th id=\"T_02075_level0_row3\" class=\"row_heading level0 row3\" >3</th>\n",
       "      <td id=\"T_02075_row3_col0\" class=\"data row3 col0\" >Gradien Boost Classifier</td>\n",
       "      <td id=\"T_02075_row3_col1\" class=\"data row3 col1\" >78.116000</td>\n",
       "      <td id=\"T_02075_row3_col2\" class=\"data row3 col2\" >0.781059</td>\n",
       "    </tr>\n",
       "    <tr>\n",
       "      <th id=\"T_02075_level0_row4\" class=\"row_heading level0 row4\" >5</th>\n",
       "      <td id=\"T_02075_row4_col0\" class=\"data row4 col0\" >Logistic Regression</td>\n",
       "      <td id=\"T_02075_row4_col1\" class=\"data row4 col1\" >76.430000</td>\n",
       "      <td id=\"T_02075_row4_col2\" class=\"data row4 col2\" >0.764181</td>\n",
       "    </tr>\n",
       "    <tr>\n",
       "      <th id=\"T_02075_level0_row5\" class=\"row_heading level0 row5\" >6</th>\n",
       "      <td id=\"T_02075_row5_col0\" class=\"data row5 col0\" >KNeighborsClassifier</td>\n",
       "      <td id=\"T_02075_row5_col1\" class=\"data row5 col1\" >76.232000</td>\n",
       "      <td id=\"T_02075_row5_col2\" class=\"data row5 col2\" >0.762172</td>\n",
       "    </tr>\n",
       "    <tr>\n",
       "      <th id=\"T_02075_level0_row6\" class=\"row_heading level0 row6\" >2</th>\n",
       "      <td id=\"T_02075_row6_col0\" class=\"data row6 col0\" >Gaussian naive bayes classifier</td>\n",
       "      <td id=\"T_02075_row6_col1\" class=\"data row6 col1\" >75.411000</td>\n",
       "      <td id=\"T_02075_row6_col2\" class=\"data row6 col2\" >0.754015</td>\n",
       "    </tr>\n",
       "    <tr>\n",
       "      <th id=\"T_02075_level0_row7\" class=\"row_heading level0 row7\" >7</th>\n",
       "      <td id=\"T_02075_row7_col0\" class=\"data row7 col0\" >Support Vector Machine</td>\n",
       "      <td id=\"T_02075_row7_col1\" class=\"data row7 col1\" >65.362000</td>\n",
       "      <td id=\"T_02075_row7_col2\" class=\"data row7 col2\" >0.653714</td>\n",
       "    </tr>\n",
       "  </tbody>\n",
       "</table>\n"
      ],
      "text/plain": [
       "<pandas.io.formats.style.Styler at 0x160064aed90>"
      ]
     },
     "execution_count": 126,
     "metadata": {},
     "output_type": "execute_result"
    }
   ],
   "source": [
    "results = pd.DataFrame([[\"XGBoost Classifier\", xgboost_acc, xgboost_rocauc],\n",
    "                        [\"Decision Tree Classifier\", dtr_acc, dtr_rocauc], \n",
    "                        [\"Gaussian naive bayes classifier\", gnb_acc, gnb_rocauc],\n",
    "                        [\"Gradien Boost Classifier\", gradien_acc, gradien_rocauc],\n",
    "                        [\"Random Forest Classifier\", rfc_acc, rfc_rocauc],\n",
    "                        [\"Logistic Regression\",lr_acc,lr_rocauc],\n",
    "                        [\"KNeighborsClassifier\",knn_acc,knn_rocauc],\n",
    "                        [\"Support Vector Machine\",SVM_acc,SVM_rocauc]],\n",
    "                        columns = [\"Models\", \"Testing Accuracy Score\", \"ROC AUC Score\"])\n",
    "\n",
    "results.sort_values(by=['Testing Accuracy Score'], ascending=False).style.background_gradient(cmap='YlOrRd')"
   ]
  }
 ],
 "metadata": {
  "kernelspec": {
   "display_name": "base",
   "language": "python",
   "name": "python3"
  },
  "language_info": {
   "codemirror_mode": {
    "name": "ipython",
    "version": 3
   },
   "file_extension": ".py",
   "mimetype": "text/x-python",
   "name": "python",
   "nbconvert_exporter": "python",
   "pygments_lexer": "ipython3",
   "version": "3.9.12"
  },
  "orig_nbformat": 4,
  "vscode": {
   "interpreter": {
    "hash": "ad2bdc8ecc057115af97d19610ffacc2b4e99fae6737bb82f5d7fb13d2f2c186"
   }
  }
 },
 "nbformat": 4,
 "nbformat_minor": 2
}
